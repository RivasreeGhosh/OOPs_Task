{
 "cells": [
  {
   "cell_type": "markdown",
   "id": "7fb0ae24-7961-475d-970e-283e598fd935",
   "metadata": {},
   "source": [
    "Q1, Create a vehicle class with an init method having instance variables as name_of_vehicle, max_speed\n",
    "and average_of_vehicle."
   ]
  },
  {
   "cell_type": "code",
   "execution_count": 26,
   "id": "d3aae56f-7cf6-49c3-ae0c-7887eafab3ee",
   "metadata": {},
   "outputs": [],
   "source": [
    "class vehicle:\n",
    "    def __init__(self, name_of_veh, max_speed, avg_veh):\n",
    "        self.name_of_veh = name_of_veh\n",
    "        self.max_speed = max_speed\n",
    "        self.avg_veh = avg_veh\n",
    "        \n",
    "    def set_speed(self, max_speed):\n",
    "        if max_speed> 200:\n",
    "            return 'Danger'\n",
    "        else:\n",
    "            return max_speed"
   ]
  },
  {
   "cell_type": "code",
   "execution_count": 27,
   "id": "6f0d5fd8-2d41-46cc-9702-1f596808d662",
   "metadata": {},
   "outputs": [],
   "source": [
    "obj_veh = vehicle('BMW', 250,100)"
   ]
  },
  {
   "cell_type": "code",
   "execution_count": 28,
   "id": "ad156853-a54d-4379-a9a7-d7c46ea76565",
   "metadata": {},
   "outputs": [
    {
     "data": {
      "text/plain": [
       "'Danger'"
      ]
     },
     "execution_count": 28,
     "metadata": {},
     "output_type": "execute_result"
    }
   ],
   "source": [
    "obj_veh.set_speed(500)"
   ]
  },
  {
   "cell_type": "markdown",
   "id": "162ced00-25c6-4ec0-bb55-a86046981d58",
   "metadata": {},
   "source": [
    "Q2. Create a child class car from the vehicle class created in Que 1, which will inherit the vehicle class.\n",
    "Create a method named seating_capacity which takes capacity as an argument and returns the name of\n",
    "the vehicle and its seating capacity."
   ]
  },
  {
   "cell_type": "code",
   "execution_count": 63,
   "id": "bc5924a1-54e4-48fd-a0a2-54ecc5aa9caf",
   "metadata": {},
   "outputs": [],
   "source": [
    "class car(vehicle):\n",
    "    \n",
    "    def __init__(self, veh_name, seat_capacity):\n",
    "        \n",
    "        self.__veh_name = veh_name\n",
    "        self.__seat_capacity = seat_capacity\n",
    "        \n",
    "    def seating_capacity(self):\n",
    "        return self.__veh_name, self.__seat_capacity"
   ]
  },
  {
   "cell_type": "code",
   "execution_count": 65,
   "id": "d9a3728a-74c8-4415-9063-cf9d03c70e56",
   "metadata": {},
   "outputs": [],
   "source": [
    "obj_car = car('Toyota',4)"
   ]
  },
  {
   "cell_type": "code",
   "execution_count": 66,
   "id": "9eae57f2-4b64-45b8-87e8-13e4ffd2cb7b",
   "metadata": {},
   "outputs": [
    {
     "data": {
      "text/plain": [
       "('Toyota', 4)"
      ]
     },
     "execution_count": 66,
     "metadata": {},
     "output_type": "execute_result"
    }
   ],
   "source": [
    "obj_car.seating_capacity()"
   ]
  },
  {
   "cell_type": "code",
   "execution_count": 67,
   "id": "d3909177-0de2-4023-8a23-2dc03b117746",
   "metadata": {},
   "outputs": [
    {
     "data": {
      "text/plain": [
       "'Danger'"
      ]
     },
     "execution_count": 67,
     "metadata": {},
     "output_type": "execute_result"
    }
   ],
   "source": [
    "obj_car.set_speed(300)"
   ]
  },
  {
   "cell_type": "markdown",
   "id": "3b4ada6c-bb1d-4810-bb09-2269cdeb15b5",
   "metadata": {},
   "source": [
    "Q3. What is multiple inheritance? Write a python code to demonstrate multiple inheritance."
   ]
  },
  {
   "cell_type": "markdown",
   "id": "d9ad2e61-1ccb-456e-9a04-903f300a51de",
   "metadata": {},
   "source": [
    "When a class is derived from more than one base class it is called multiple Inheritance. "
   ]
  },
  {
   "cell_type": "code",
   "execution_count": 1,
   "id": "70930f37-f7ee-4163-b238-7869d676c057",
   "metadata": {},
   "outputs": [],
   "source": [
    "class cl1:\n",
    "    def test1(self):\n",
    "        print('class1')"
   ]
  },
  {
   "cell_type": "code",
   "execution_count": 2,
   "id": "1861d867-938f-464f-8b79-91c2ba9784f2",
   "metadata": {},
   "outputs": [],
   "source": [
    "class cl2:\n",
    "    def test2(self):\n",
    "        print('class2')"
   ]
  },
  {
   "cell_type": "code",
   "execution_count": 3,
   "id": "384f4a86-f508-4c5d-a0bd-08280c34b6a9",
   "metadata": {},
   "outputs": [],
   "source": [
    "class cl3(cl1,cl2):\n",
    "    def test3():\n",
    "        pass\n",
    "    "
   ]
  },
  {
   "cell_type": "code",
   "execution_count": 4,
   "id": "655a4118-12b8-4c10-8a64-26798455e0f7",
   "metadata": {},
   "outputs": [],
   "source": [
    "obj_cl3 = cl3()"
   ]
  },
  {
   "cell_type": "code",
   "execution_count": 5,
   "id": "781a0c92-bc12-4f5a-9b09-8f505e2f1092",
   "metadata": {},
   "outputs": [
    {
     "name": "stdout",
     "output_type": "stream",
     "text": [
      "class2\n"
     ]
    }
   ],
   "source": [
    "obj_cl3.test2()"
   ]
  },
  {
   "cell_type": "markdown",
   "id": "eb5486a9-3073-43f9-8f08-a8a574f10f2e",
   "metadata": {},
   "source": [
    "Q4. What are getter and setter in python? Create a class and create a getter and a setter method in this\n",
    "class.\n"
   ]
  },
  {
   "cell_type": "markdown",
   "id": "480aa366-7461-4929-b116-a2a1f8d1e38c",
   "metadata": {},
   "source": [
    "Getter: A method that allows you to access an attribute in a given class. Setter: A method that allows you to set or mutate the value of an attribute in a class."
   ]
  },
  {
   "cell_type": "code",
   "execution_count": 29,
   "id": "95835586-f688-4a26-9011-7271c5bc173f",
   "metadata": {},
   "outputs": [],
   "source": [
    "class public:\n",
    "    def __init__(self, age):\n",
    "        self.__age = age\n",
    "    @property\n",
    "    def age_access(self):\n",
    "        return self.__age\n",
    "        \n",
    "    @age_access.setter    \n",
    "    def set_age(self,age):\n",
    "        return self.__age"
   ]
  },
  {
   "cell_type": "code",
   "execution_count": 30,
   "id": "9b9c64fb-4257-4b36-b402-1de758b5b9c4",
   "metadata": {},
   "outputs": [],
   "source": [
    "obj1 = public(20)"
   ]
  },
  {
   "cell_type": "code",
   "execution_count": 31,
   "id": "a200dd0c-fe11-4d4b-916b-af665da95fea",
   "metadata": {},
   "outputs": [
    {
     "data": {
      "text/plain": [
       "20"
      ]
     },
     "execution_count": 31,
     "metadata": {},
     "output_type": "execute_result"
    }
   ],
   "source": [
    "obj1.age_access"
   ]
  },
  {
   "cell_type": "code",
   "execution_count": 32,
   "id": "ad71f6f7-7ffa-4bfb-a995-1f6b4a4e2e8d",
   "metadata": {},
   "outputs": [
    {
     "data": {
      "text/plain": [
       "40"
      ]
     },
     "execution_count": 32,
     "metadata": {},
     "output_type": "execute_result"
    }
   ],
   "source": [
    "obj1.set_age(40)"
   ]
  },
  {
   "cell_type": "markdown",
   "id": "d3cb9f72-510b-4d28-9976-2fc29ef1622c",
   "metadata": {},
   "source": [
    "Q5.What is method overriding in python? Write a python code to demonstrate method overriding."
   ]
  },
  {
   "cell_type": "code",
   "execution_count": 33,
   "id": "2d7de460-5c85-4c0f-96c7-53b5038eb3f0",
   "metadata": {},
   "outputs": [],
   "source": [
    "class Parent():\n",
    "      \n",
    "    def __init__(self):\n",
    "        self.value = \"Inside Parent\"\n",
    "          \n",
    "    def show(self):\n",
    "        print(self.value)\n",
    "          \n"
   ]
  },
  {
   "cell_type": "code",
   "execution_count": 34,
   "id": "25929e14-e4e6-4210-83e4-83f8e693f7e1",
   "metadata": {},
   "outputs": [],
   "source": [
    "obj2 = Parent()"
   ]
  },
  {
   "cell_type": "code",
   "execution_count": 35,
   "id": "bd0fd43a-ed37-4326-b591-faae49fe1708",
   "metadata": {},
   "outputs": [],
   "source": [
    "class Child(Parent):\n",
    "      \n",
    "    def __init__(self):\n",
    "        self.value = \"Inside Child\"\n",
    "          \n",
    "    def show(self):\n",
    "        print(self.value)"
   ]
  },
  {
   "cell_type": "code",
   "execution_count": 36,
   "id": "e421a13d-4b3e-4c33-9f47-9f582bb56135",
   "metadata": {},
   "outputs": [],
   "source": [
    "obj3 = Child()"
   ]
  },
  {
   "cell_type": "code",
   "execution_count": 38,
   "id": "4649f268-a7dc-44e5-b248-437da6229434",
   "metadata": {},
   "outputs": [
    {
     "name": "stdout",
     "output_type": "stream",
     "text": [
      "Inside Parent\n",
      "Inside Child\n"
     ]
    }
   ],
   "source": [
    "obj2.show()\n",
    "obj3.show()"
   ]
  },
  {
   "cell_type": "code",
   "execution_count": null,
   "id": "5ae092ec-ac53-4900-8382-e8c4e53b49b2",
   "metadata": {},
   "outputs": [],
   "source": []
  }
 ],
 "metadata": {
  "kernelspec": {
   "display_name": "Python 3 (ipykernel)",
   "language": "python",
   "name": "python3"
  },
  "language_info": {
   "codemirror_mode": {
    "name": "ipython",
    "version": 3
   },
   "file_extension": ".py",
   "mimetype": "text/x-python",
   "name": "python",
   "nbconvert_exporter": "python",
   "pygments_lexer": "ipython3",
   "version": "3.10.8"
  }
 },
 "nbformat": 4,
 "nbformat_minor": 5
}
